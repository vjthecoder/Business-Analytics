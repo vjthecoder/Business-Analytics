{
 "cells": [
  {
   "cell_type": "code",
   "execution_count": 4,
   "metadata": {},
   "outputs": [
    {
     "name": "stdout",
     "output_type": "stream",
     "text": [
      "This is my first function.\n",
      "8\n"
     ]
    }
   ],
   "source": [
    "#User Defined Functions (UDF)\n",
    "def someFunction():\n",
    "    print('This is my first function.')\n",
    "\n",
    "someFunction()\n",
    "\n",
    "def printCube(a):\n",
    "    print(a ** 3)\n",
    "\n",
    "printCube(2)\n"
   ]
  },
  {
   "cell_type": "code",
   "execution_count": 2,
   "metadata": {},
   "outputs": [
    {
     "name": "stdout",
     "output_type": "stream",
     "text": [
      "x 10\n",
      "25\n"
     ]
    }
   ],
   "source": [
    "# Variable Scopes (Global & Local)\n",
    "x = 10 #global variable\n",
    "def getSum(y):\n",
    "    x = 5\n",
    "    return x + y\n",
    "print('x',x)\n",
    "print(getSum(20))"
   ]
  },
  {
   "cell_type": "code",
   "execution_count": 11,
   "metadata": {},
   "outputs": [
    {
     "name": "stdout",
     "output_type": "stream",
     "text": [
      "1\n",
      "2\n",
      "3\n",
      "4\n",
      "a\n",
      "c\n",
      "name Vijay\n",
      "age 23\n",
      "doby 1993\n"
     ]
    }
   ],
   "source": [
    "#Variable args\n",
    "def varArgs(*args):\n",
    "    for arg in args:\n",
    "        print(arg)\n",
    "\n",
    "varArgs(1,2,3,4,'a','c')\n",
    "\n",
    "def varArgs2(**args):\n",
    "    for a in args:\n",
    "        print(a, args[a])\n",
    "\n",
    "varArgs2(name='Vijay',age=23,doby=1993)"
   ]
  },
  {
   "cell_type": "code",
   "execution_count": 13,
   "metadata": {},
   "outputs": [
    {
     "name": "stdout",
     "output_type": "stream",
     "text": [
      "DirEntry\n",
      "F_OK\n",
      "MutableMapping\n",
      "O_APPEND\n",
      "O_BINARY\n",
      "O_CREAT\n",
      "O_EXCL\n",
      "O_NOINHERIT\n",
      "O_RANDOM\n",
      "O_RDONLY\n",
      "O_RDWR\n",
      "O_SEQUENTIAL\n",
      "O_SHORT_LIVED\n",
      "O_TEMPORARY\n",
      "O_TEXT\n",
      "O_TRUNC\n",
      "O_WRONLY\n",
      "P_DETACH\n",
      "P_NOWAIT\n",
      "P_NOWAITO\n",
      "P_OVERLAY\n",
      "P_WAIT\n",
      "PathLike\n",
      "R_OK\n",
      "SEEK_CUR\n",
      "SEEK_END\n",
      "SEEK_SET\n",
      "TMP_MAX\n",
      "W_OK\n",
      "X_OK\n",
      "_Environ\n",
      "__all__\n",
      "__builtins__\n",
      "__cached__\n",
      "__doc__\n",
      "__file__\n",
      "__loader__\n",
      "__name__\n",
      "__package__\n",
      "__spec__\n",
      "_execvpe\n",
      "_exists\n",
      "_exit\n",
      "_fspath\n",
      "_get_exports_list\n",
      "_putenv\n",
      "_unsetenv\n",
      "_wrap_close\n",
      "abc\n",
      "abort\n",
      "access\n",
      "altsep\n",
      "chdir\n",
      "chmod\n",
      "close\n",
      "closerange\n",
      "cpu_count\n",
      "curdir\n",
      "defpath\n",
      "device_encoding\n",
      "devnull\n",
      "dup\n",
      "dup2\n",
      "environ\n",
      "error\n",
      "execl\n",
      "execle\n",
      "execlp\n",
      "execlpe\n",
      "execv\n",
      "execve\n",
      "execvp\n",
      "execvpe\n",
      "extsep\n",
      "fdopen\n",
      "fsdecode\n",
      "fsencode\n",
      "fspath\n",
      "fstat\n",
      "fsync\n",
      "ftruncate\n",
      "get_exec_path\n",
      "get_handle_inheritable\n",
      "get_inheritable\n",
      "get_terminal_size\n",
      "getcwd\n",
      "getcwdb\n",
      "getenv\n",
      "getlogin\n",
      "getpid\n",
      "getppid\n",
      "isatty\n",
      "kill\n",
      "linesep\n",
      "link\n",
      "listdir\n",
      "lseek\n",
      "lstat\n",
      "makedirs\n",
      "mkdir\n",
      "name\n",
      "open\n",
      "pardir\n",
      "path\n",
      "pathsep\n",
      "pipe\n",
      "popen\n",
      "putenv\n",
      "read\n",
      "readlink\n",
      "remove\n",
      "removedirs\n",
      "rename\n",
      "renames\n",
      "replace\n",
      "rmdir\n",
      "scandir\n",
      "sep\n",
      "set_handle_inheritable\n",
      "set_inheritable\n",
      "spawnl\n",
      "spawnle\n",
      "spawnv\n",
      "spawnve\n",
      "st\n",
      "startfile\n",
      "stat\n",
      "stat_result\n",
      "statvfs_result\n",
      "strerror\n",
      "supports_bytes_environ\n",
      "supports_dir_fd\n",
      "supports_effective_ids\n",
      "supports_fd\n",
      "supports_follow_symlinks\n",
      "symlink\n",
      "sys\n",
      "system\n",
      "terminal_size\n",
      "times\n",
      "times_result\n",
      "truncate\n",
      "umask\n",
      "uname_result\n",
      "unlink\n",
      "urandom\n",
      "utime\n",
      "waitpid\n",
      "walk\n",
      "write\n"
     ]
    }
   ],
   "source": [
    "#Module\n",
    "import os\n",
    "content = dir(os)\n",
    "for c in content:\n",
    "    print(c)"
   ]
  },
  {
   "cell_type": "code",
   "execution_count": 16,
   "metadata": {},
   "outputs": [
    {
     "name": "stdout",
     "output_type": "stream",
     "text": [
      "\n",
      "C:\\Users\\a978793\\Documents\\PythonWorkspace\n",
      "C:\\Users\\a978793\\AppData\\Local\\Continuum\\anaconda3\\python37.zip\n",
      "C:\\Users\\a978793\\AppData\\Local\\Continuum\\anaconda3\\DLLs\n",
      "C:\\Users\\a978793\\AppData\\Local\\Continuum\\anaconda3\\lib\n",
      "C:\\Users\\a978793\\AppData\\Local\\Continuum\\anaconda3\n",
      "C:\\Users\\a978793\\AppData\\Local\\Continuum\\anaconda3\\lib\\site-packages\n",
      "C:\\Users\\a978793\\AppData\\Local\\Continuum\\anaconda3\\lib\\site-packages\\win32\n",
      "C:\\Users\\a978793\\AppData\\Local\\Continuum\\anaconda3\\lib\\site-packages\\win32\\lib\n",
      "C:\\Users\\a978793\\AppData\\Local\\Continuum\\anaconda3\\lib\\site-packages\\Pythonwin\n",
      "C:\\Users\\a978793\\AppData\\Local\\Continuum\\anaconda3\\lib\\site-packages\\IPython\\extensions\n",
      "C:\\Users\\a978793\\.ipython\n"
     ]
    }
   ],
   "source": [
    "from os import sys\n",
    "for directory in sys.path:\n",
    "    print(directory)"
   ]
  },
  {
   "cell_type": "code",
   "execution_count": 18,
   "metadata": {},
   "outputs": [
    {
     "name": "stdout",
     "output_type": "stream",
     "text": [
      "__main__\n"
     ]
    }
   ],
   "source": [
    "print(__name__)"
   ]
  },
  {
   "cell_type": "code",
   "execution_count": 3,
   "metadata": {},
   "outputs": [],
   "source": [
    "#File I/O Read, Write, Append Modes.\n",
    "f = open('sample.txt','w+')\n",
    "f.write('Hello Mr. Vijay\\n How are you doing today?')\n",
    "f.close()"
   ]
  },
  {
   "cell_type": "code",
   "execution_count": 4,
   "metadata": {},
   "outputs": [
    {
     "name": "stdout",
     "output_type": "stream",
     "text": [
      "Hello Mr. Vijay\n",
      "\n",
      " How are you doing today?\n"
     ]
    }
   ],
   "source": [
    "g = open('sample.txt','r')\n",
    "lines = g.readlines()\n",
    "for line in lines:\n",
    "    print(line)\n",
    "g.close()"
   ]
  },
  {
   "cell_type": "code",
   "execution_count": 33,
   "metadata": {},
   "outputs": [
    {
     "name": "stdout",
     "output_type": "stream",
     "text": [
      " Exception: \n",
      " Error Type:  <class 'TypeError'> \n",
      " Error Message:  unsupported operand type(s) for /: 'int' and 'str'\n"
     ]
    }
   ],
   "source": [
    "#Exception Handling\n",
    "try:\n",
    "    x = 1\n",
    "    y = 'a'\n",
    "    print('Result of X/Y: ',x/y)\n",
    "except(ZeroDivisionError):\n",
    "   print('Zero Division Error')\n",
    "except:\n",
    "    print(' Exception: \\n Error Type: ',sys.exc_info()[0],'\\n','Error Message: ',sys.exc_info()[1])"
   ]
  },
  {
   "cell_type": "code",
   "execution_count": 34,
   "metadata": {},
   "outputs": [],
   "source": [
    "# End of Basic Python for DS"
   ]
  },
  {
   "cell_type": "code",
   "execution_count": null,
   "metadata": {},
   "outputs": [],
   "source": []
  }
 ],
 "metadata": {
  "interpreter": {
   "hash": "03ab832be714af6a2e2aacd1aa00ac0ef05fa8a66d05e94148a483646a87a75f"
  },
  "kernelspec": {
   "display_name": "Python 3.9.7 ('base')",
   "language": "python",
   "name": "python3"
  },
  "language_info": {
   "codemirror_mode": {
    "name": "ipython",
    "version": 3
   },
   "file_extension": ".py",
   "mimetype": "text/x-python",
   "name": "python",
   "nbconvert_exporter": "python",
   "pygments_lexer": "ipython3",
   "version": "3.9.7"
  }
 },
 "nbformat": 4,
 "nbformat_minor": 2
}
