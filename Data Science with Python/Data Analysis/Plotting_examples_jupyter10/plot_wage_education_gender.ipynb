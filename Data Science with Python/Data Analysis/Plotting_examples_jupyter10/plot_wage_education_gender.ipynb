{
  "cells": [
    {
      "cell_type": "code",
      "execution_count": 1,
      "metadata": {
        "collapsed": false
      },
      "outputs": [],
      "source": [
        "%matplotlib inline"
      ]
    },
    {
      "cell_type": "markdown",
      "metadata": {},
      "source": [
        "\n",
        "Test for an education/gender interaction in wages\n",
        "==================================================\n",
        "\n",
        "Wages depend mostly on education. Here we investigate how this dependence\n",
        "is related to gender: not only does gender create an offset in wages, it\n",
        "also seems that wages increase more with education for males than\n",
        "females.\n",
        "\n",
        "Does our data support this last hypothesis? We will test this using\n",
        "statsmodels' formulas\n",
        "(http://statsmodels.sourceforge.net/stable/example_formulas.html).\n",
        "\n",
        "\n"
      ]
    },
    {
      "cell_type": "markdown",
      "metadata": {},
      "source": [
        "Load and massage the data\n",
        "\n"
      ]
    },
    {
      "cell_type": "code",
      "execution_count": 2,
      "metadata": {
        "collapsed": false
      },
      "outputs": [
        {
          "ename": "AttributeError",
          "evalue": "module 'urllib' has no attribute 'urlretrieve'",
          "output_type": "error",
          "traceback": [
            "\u001b[0;31m---------------------------------------------------------------------------\u001b[0m",
            "\u001b[0;31mAttributeError\u001b[0m                            Traceback (most recent call last)",
            "\u001b[0;32m/var/folders/8t/3s06l7mj1h98rqhvjrcb2bjm0000gn/T/ipykernel_7214/1133257776.py\u001b[0m in \u001b[0;36m<module>\u001b[0;34m\u001b[0m\n\u001b[1;32m      6\u001b[0m \u001b[0;32mif\u001b[0m \u001b[0;32mnot\u001b[0m \u001b[0mos\u001b[0m\u001b[0;34m.\u001b[0m\u001b[0mpath\u001b[0m\u001b[0;34m.\u001b[0m\u001b[0mexists\u001b[0m\u001b[0;34m(\u001b[0m\u001b[0;34m'wages.txt'\u001b[0m\u001b[0;34m)\u001b[0m\u001b[0;34m:\u001b[0m\u001b[0;34m\u001b[0m\u001b[0;34m\u001b[0m\u001b[0m\n\u001b[1;32m      7\u001b[0m     \u001b[0;31m# Download the file if it is not present\u001b[0m\u001b[0;34m\u001b[0m\u001b[0;34m\u001b[0m\u001b[0m\n\u001b[0;32m----> 8\u001b[0;31m     urllib.urlretrieve('http://lib.stat.cmu.edu/datasets/CPS_85_Wages',\n\u001b[0m\u001b[1;32m      9\u001b[0m                        'wages.txt')\n\u001b[1;32m     10\u001b[0m \u001b[0;34m\u001b[0m\u001b[0m\n",
            "\u001b[0;31mAttributeError\u001b[0m: module 'urllib' has no attribute 'urlretrieve'"
          ]
        }
      ],
      "source": [
        "import pandas\n",
        "\n",
        "import urllib\n",
        "import os\n",
        "\n",
        "if not os.path.exists('wages.txt'):\n",
        "    # Download the file if it is not present\n",
        "    urllib.urlretrieve('http://lib.stat.cmu.edu/datasets/CPS_85_Wages',\n",
        "                       'wages.txt')\n",
        "\n",
        "# EDUCATION: Number of years of education\n",
        "# SEX: 1=Female, 0=Male\n",
        "# WAGE: Wage (dollars per hour)\n",
        "data = pandas.read_csv('wages.txt', skiprows=27, skipfooter=6, sep=None,\n",
        "                       header=None, names=['education', 'gender', 'wage'],\n",
        "                       usecols=[0, 2, 5],\n",
        "                       )\n",
        "\n",
        "# Convert genders to strings (this is particulary useful so that the\n",
        "# statsmodels formulas detects that gender is a categorical variable)\n",
        "import numpy as np\n",
        "data['gender'] = np.choose(data.gender, ['male', 'female'])\n",
        "\n",
        "# Log-transform the wages, because they typically are increased with\n",
        "# multiplicative factors\n",
        "data['wage'] = np.log10(data['wage'])"
      ]
    },
    {
      "cell_type": "markdown",
      "metadata": {},
      "source": [
        "simple plotting\n",
        "\n"
      ]
    },
    {
      "cell_type": "code",
      "execution_count": null,
      "metadata": {
        "collapsed": false
      },
      "outputs": [],
      "source": [
        "import seaborn\n",
        "\n",
        "# Plot 2 linear fits for male and female.\n",
        "seaborn.lmplot(y='wage', x='education', hue='gender', data=data)"
      ]
    },
    {
      "cell_type": "markdown",
      "metadata": {},
      "source": [
        "statistical analysis\n",
        "\n"
      ]
    },
    {
      "cell_type": "code",
      "execution_count": null,
      "metadata": {
        "collapsed": false
      },
      "outputs": [],
      "source": [
        "import statsmodels.formula.api as sm\n",
        "\n",
        "# Note that this model is not the plot displayed above: it is one\n",
        "# joined model for male and female, not separate models for male and\n",
        "# female. The reason is that a single model enables statistical testing\n",
        "result = sm.ols(formula='wage ~ education + gender', data=data).fit()\n",
        "print(result.summary())"
      ]
    },
    {
      "cell_type": "markdown",
      "metadata": {},
      "source": [
        "The plots above highlight that there is not only a different offset in\n",
        "wage but also a different slope\n",
        "\n",
        "We need to model this using an interaction\n",
        "\n"
      ]
    },
    {
      "cell_type": "code",
      "execution_count": null,
      "metadata": {
        "collapsed": false
      },
      "outputs": [],
      "source": [
        "result = sm.ols(formula='wage ~ education + gender + education * gender',\n",
        "                data=data).fit()\n",
        "print(result.summary())"
      ]
    },
    {
      "cell_type": "markdown",
      "metadata": {},
      "source": [
        "Looking at the p-value of the interaction of gender and education, the\n",
        "data does not support the hypothesis that education benefits males\n",
        "more than female (p-value > 0.05).\n",
        "\n"
      ]
    },
    {
      "cell_type": "code",
      "execution_count": null,
      "metadata": {
        "collapsed": false
      },
      "outputs": [],
      "source": [
        "import matplotlib.pyplot as plt\n",
        "plt.show()"
      ]
    }
  ],
  "metadata": {
    "kernelspec": {
      "display_name": "Python 3.9.7 ('base')",
      "language": "python",
      "name": "python3"
    },
    "language_info": {
      "codemirror_mode": {
        "name": "ipython",
        "version": 3
      },
      "file_extension": ".py",
      "mimetype": "text/x-python",
      "name": "python",
      "nbconvert_exporter": "python",
      "pygments_lexer": "ipython3",
      "version": "3.9.7"
    },
    "vscode": {
      "interpreter": {
        "hash": "03ab832be714af6a2e2aacd1aa00ac0ef05fa8a66d05e94148a483646a87a75f"
      }
    }
  },
  "nbformat": 4,
  "nbformat_minor": 0
}
