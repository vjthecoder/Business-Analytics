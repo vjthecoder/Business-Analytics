{
 "cells": [
  {
   "cell_type": "code",
   "execution_count": 2,
   "metadata": {},
   "outputs": [
    {
     "data": {
      "text/plain": [
       "'\\nsklearn - Linear Regression\\n'"
      ]
     },
     "execution_count": 2,
     "metadata": {},
     "output_type": "execute_result"
    }
   ],
   "source": [
    "'''\n",
    "sklearn - Linear Regression\n",
    "'''\n",
    "# Hours of study vs Result Grades\n"
   ]
  },
  {
   "cell_type": "code",
   "execution_count": 3,
   "metadata": {},
   "outputs": [
    {
     "name": "stdout",
     "output_type": "stream",
     "text": [
      "   Year  interest rate (%)  Median home price\n",
      "0  1988               10.3             183800\n",
      "1  1989               10.3             183200\n",
      "2  1990               10.1             174900\n",
      "3  1991                9.3             173500\n",
      "4  1992                8.4             172900\n"
     ]
    }
   ],
   "source": [
    "import numpy as np\n",
    "import pandas as pd\n",
    "\n",
    "data = pd.read_excel('data/data-sets-for-lm.xlsx', sheet='home prices', dtype={'interest rate (%)': float, 'Median home price': int}) \n",
    "\n",
    "print(data.head())"
   ]
  },
  {
   "cell_type": "code",
   "execution_count": 4,
   "metadata": {},
   "outputs": [
    {
     "name": "stdout",
     "output_type": "stream",
     "text": [
      "Intercept:  393348.616267681\n",
      "Coefficient:  [-23409.4481015]\n"
     ]
    }
   ],
   "source": [
    "import sklearn.linear_model as lm\n",
    "lr = lm.LinearRegression()\n",
    "x = data['interest rate (%)'].values\n",
    "y = data['Median home price'].values\n",
    "lr.fit(x.reshape(-1, 1),y)\n",
    "print(\"Intercept: \", lr.intercept_) \n",
    "print(\"Coefficient: \", lr.coef_)"
   ]
  },
  {
   "cell_type": "code",
   "execution_count": 5,
   "metadata": {},
   "outputs": [
    {
     "name": "stdout",
     "output_type": "stream",
     "text": [
      "[[10.3]\n",
      " [10.3]\n",
      " [10.1]\n",
      " [ 9.3]\n",
      " [ 8.4]\n",
      " [ 7.3]\n",
      " [ 8.4]\n",
      " [ 7.9]\n",
      " [ 7.6]\n",
      " [ 7.6]\n",
      " [ 6.9]\n",
      " [ 7.4]\n",
      " [ 8.1]\n",
      " [ 7. ]\n",
      " [ 6.5]\n",
      " [ 5.8]]\n"
     ]
    },
    {
     "data": {
      "text/plain": [
       "Text(0.5,1,'Interest vs Price')"
      ]
     },
     "execution_count": 5,
     "metadata": {},
     "output_type": "execute_result"
    }
   ],
   "source": [
    "import matplotlib.pyplot as plt\n",
    "print(x.reshape(-1, 1))\n",
    "x = x.reshape(-1, 1)\n",
    "plt.scatter(x, y, color='black')\n",
    "plt.plot(x, lr.predict(x), color='blue', linewidth=3) \n",
    "plt.title('Interest vs Price')"
   ]
  },
  {
   "cell_type": "code",
   "execution_count": 6,
   "metadata": {},
   "outputs": [
    {
     "name": "stdout",
     "output_type": "stream",
     "text": [
      "R square value:  0.3845951532051971\n",
      "RMSE:  38779.021270027304\n",
      "MAE:  34568.57760289729\n"
     ]
    }
   ],
   "source": [
    "#Functions to calculate R-squared, Root Mean Squred Error(RMSE), Mean Absolute Error(MAE)\n",
    "from sklearn.metrics import r2_score, mean_absolute_error, mean_squared_error\n",
    "data['Test_score'] = lr.predict(x)\n",
    "print('R square value: ',r2_score(y,data['Test_score']))\n",
    "print('RMSE: ', np.sqrt(mean_squared_error(y,data['Test_score'])))\n",
    "print('MAE: ', mean_absolute_error(data['Test_score'],y))\n"
   ]
  },
  {
   "cell_type": "code",
   "execution_count": 9,
   "metadata": {},
   "outputs": [
    {
     "data": {
      "image/png": "[encoded data removed]",
      "text/plain": [
       "<Figure size 432x288 with 6 Axes>"
      ]
     },
     "metadata": {
      "needs_background": "light"
     },
     "output_type": "display_data"
    }
   ],
   "source": [
    "# Polynomial regression (nth ordrer linear equations)\n",
    "x = np.linspace(-3,3,1000)\n",
    "fig, ((a1, a2, a3),(a4, a5, a6)) = plt.subplots(nrows=2,ncols=3)\n",
    "\n",
    "a1.plot(x,x)\n",
    "a1.set_title('linear')\n",
    "\n",
    "a2.plot(x,x**2)\n",
    "a2.set_title('degree 2')\n",
    "\n",
    "a3.plot(x,x**3)\n",
    "a3.set_title('degree 3')\n",
    "\n",
    "a4.plot(x,x**4)\n",
    "a4.set_title('degree 4')\n",
    "\n",
    "a5.plot(x,x**5)\n",
    "a5.set_title('degree 5')\n",
    "\n",
    "a6.plot(x,x**6)\n",
    "a6.set_title('degree 6')\n",
    "\n",
    "plt.tight_layout()"
   ]
  },
  {
   "cell_type": "code",
   "execution_count": null,
   "metadata": {},
   "outputs": [],
   "source": []
  }
 ],
 "metadata": {
  "kernelspec": {
   "display_name": "Python 3",
   "language": "python",
   "name": "python3"
  },
  "language_info": {
   "codemirror_mode": {
    "name": "ipython",
    "version": 3
   },
   "file_extension": ".py",
   "mimetype": "text/x-python",
   "name": "python",
   "nbconvert_exporter": "python",
   "pygments_lexer": "ipython3",
   "version": "3.6.5"
  }
 },
 "nbformat": 4,
 "nbformat_minor": 2
}
