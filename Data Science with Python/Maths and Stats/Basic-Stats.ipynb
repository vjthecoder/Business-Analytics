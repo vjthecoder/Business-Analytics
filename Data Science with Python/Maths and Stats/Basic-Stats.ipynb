{
 "cells": [
  {
   "cell_type": "markdown",
   "metadata": {},
   "source": [
    "### Statistical Packages\n",
    "    # Python’s statistics is a built-in Python library for descriptive statistics.\n",
    "    # SciPy.Stats -> focuses on the statistical theorem such as probabilistic function and distribution\n",
    "    # Pingouin   -> focuses on basic statistics and hypothesis testing\n",
    "    # Statsmodel -> focuses on the statistical estimation, statistical modeling in greater depth\n",
    "    # Scikit Learn -> a robust machine learning library for Python"
   ]
  },
  {
   "cell_type": "code",
   "execution_count": 1,
   "metadata": {},
   "outputs": [],
   "source": [
    "import math\n",
    "import statistics\n",
    "import numpy as np\n",
    "import pandas as pd"
   ]
  },
  {
   "cell_type": "code",
   "execution_count": 2,
   "metadata": {},
   "outputs": [],
   "source": [
    "#Import statistical package from Scipy\n",
    "from scipy import stats\n",
    "#Import the normal distribution class\n",
    "from scipy.stats import norm"
   ]
  }
 ],
 "metadata": {
  "interpreter": {
   "hash": "03ab832be714af6a2e2aacd1aa00ac0ef05fa8a66d05e94148a483646a87a75f"
  },
  "kernelspec": {
   "display_name": "Python 3.9.7 ('base')",
   "language": "python",
   "name": "python3"
  },
  "language_info": {
   "codemirror_mode": {
    "name": "ipython",
    "version": 3
   },
   "file_extension": ".py",
   "mimetype": "text/x-python",
   "name": "python",
   "nbconvert_exporter": "python",
   "pygments_lexer": "ipython3",
   "version": "3.9.7"
  }
 },
 "nbformat": 4,
 "nbformat_minor": 2
}
