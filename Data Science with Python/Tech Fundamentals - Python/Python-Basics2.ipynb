{
 "cells": [
  {
   "cell_type": "code",
   "execution_count": 3,
   "metadata": {},
   "outputs": [
    {
     "name": "stdout",
     "output_type": "stream",
     "text": [
      "hello!\n"
     ]
    }
   ],
   "source": [
    "# Python Basics\n",
    "# Data Types & Structures\n",
    "print(\"hello!\")"
   ]
  },
  {
   "cell_type": "code",
   "execution_count": 4,
   "metadata": {},
   "outputs": [
    {
     "data": {
      "text/plain": [
       "'\\nYou can place your multiple\\nline comments in between triple \"/\\' quotes\\n'"
      ]
     },
     "execution_count": 4,
     "metadata": {},
     "output_type": "execute_result"
    }
   ],
   "source": [
    "# Multiple line commenting\n",
    "\n",
    "\"\"\"\n",
    "You can place your multiple\n",
    "line comments in between triple \"/' quotes\n",
    "\"\"\"\n"
   ]
  },
  {
   "cell_type": "code",
   "execution_count": 6,
   "metadata": {},
   "outputs": [
    {
     "name": "stdout",
     "output_type": "stream",
     "text": [
      "Tell us your good name: Vijay\n",
      "Hi Vijay, How old are you?\n",
      "25\n",
      "Hi Vijay [25], Enter your Height(in feets): \n",
      "5.7\n"
     ]
    }
   ],
   "source": [
    "# Inputing\n",
    "name = input(\"Tell us your good name: \")\n",
    "print(\"Hi \"+name+\", How old are you?\")\n",
    "age = int(input())\n",
    "print(\"Hi \"+name+\" [\"+str(age)+\"], Enter your Height(in feets): \")\n",
    "height = float(input())"
   ]
  },
  {
   "cell_type": "code",
   "execution_count": 12,
   "metadata": {},
   "outputs": [
    {
     "name": "stdout",
     "output_type": "stream",
     "text": [
      "Enter any interger number: \n",
      "9\n",
      "You entered a single digit odd number!\n"
     ]
    }
   ],
   "source": [
    "# Conditional\n",
    "print(\"Enter any interger number: \")\n",
    "num = int(input())\n",
    "if(num % 2 == 0): \n",
    "    print(\" That's an Even number!\") \n",
    "elif (num < 10): \n",
    "    print(\"You entered a single digit odd number!\")\n",
    "else: \n",
    "    print(\"Ohh, Its an Odd number!!\")"
   ]
  },
  {
   "cell_type": "code",
   "execution_count": 1,
   "metadata": {},
   "outputs": [
    {
     "name": "stdout",
     "output_type": "stream",
     "text": [
      "Num\t\tSqrt\t\tSquare\t\tCube\n",
      "1\t\t1.0\t\t1\t\t1\n",
      "2\t\t1.4142135623730951\t\t4\t\t8\n",
      "3\t\t1.7320508075688772\t\t9\t\t27\n",
      "4\t\t2.0\t\t16\t\t64\n",
      "5\t\t2.23606797749979\t\t25\t\t125\n",
      "6\t\t2.449489742783178\t\t36\t\t216\n",
      "7\t\t2.6457513110645907\t\t49\t\t343\n",
      "8\t\t2.8284271247461903\t\t64\t\t512\n",
      "9\t\t3.0\t\t81\t\t729\n"
     ]
    }
   ],
   "source": [
    "# Loops\n",
    "\"\"\"\n",
    "1. While\n",
    "2. For i in range (value)\n",
    "3. For i in range (start value, end value)\n",
    "\"\"\"\n",
    "import math\n",
    "startNum = 1\n",
    "endNum = 9\n",
    "print(\"Num\\t\\tSqrt\\t\\tSquare\\t\\tCube\")\n",
    "while(startNum <= endNum):\n",
    "    numSqrt = math.pow(startNum, 1/2)\n",
    "    numSqr = startNum **2\n",
    "    numCube = startNum **3\n",
    "    print(str(startNum)+\"\\t\\t\"+str(numSqrt)+\"\\t\\t\"+str(numSqr)+\"\\t\\t\"+str(numCube))\n",
    "    startNum = startNum + 1\n",
    "    "
   ]
  },
  {
   "cell_type": "code",
   "execution_count": 37,
   "metadata": {},
   "outputs": [
    {
     "name": "stdout",
     "output_type": "stream",
     "text": [
      "                    \n",
      "\n",
      "                  * \n",
      "\n",
      "                * * \n",
      "\n",
      "              * * * \n",
      "\n",
      "            * * * * \n",
      "\n",
      "          * * * * * \n",
      "\n",
      "        * * * * * * \n",
      "\n",
      "      * * * * * * * \n",
      "\n",
      "    * * * * * * * * \n",
      "\n",
      "  * * * * * * * * * \n",
      "\n"
     ]
    }
   ],
   "source": [
    "for i in range(10):\n",
    "    for m in range(0, 10-i):\n",
    "        print(\" \", end=\" \")\n",
    "    for j in range(i):\n",
    "        print(\"*\", end=\" \")\n",
    "    print('\\n')\n"
   ]
  },
  {
   "cell_type": "code",
   "execution_count": 2,
   "metadata": {
    "scrolled": true
   },
   "outputs": [
    {
     "name": "stdout",
     "output_type": "stream",
     "text": [
      "0\n",
      "2\n",
      "30\n",
      "-1\n"
     ]
    }
   ],
   "source": [
    "# Lists\n",
    "l = []\n",
    "l2 = []\n",
    "print(len(l))\n",
    "\n",
    "l.append(10)\n",
    "l.append(30)\n",
    "print(len(l))\n",
    "print(max(l))\n",
    "\n",
    "l2.append(11)\n",
    "l2.append(30)\n",
    "l2.append(50)\n",
    "print((l > l2) - (l < l2))"
   ]
  },
  {
   "cell_type": "code",
   "execution_count": 17,
   "metadata": {},
   "outputs": [
    {
     "name": "stdout",
     "output_type": "stream",
     "text": [
      "I am A I am B\n",
      "I am global A\n"
     ]
    }
   ],
   "source": [
    "#Global vs Local Variables\n",
    "global a\n",
    "a = 'I am global A'\n",
    "def someFunction():\n",
    "    b = 'I am B'\n",
    "    #global a\n",
    "    a = 'I am A'\n",
    "    print(a,b)\n",
    "someFunction()\n",
    "print(a)    "
   ]
  },
  {
   "cell_type": "code",
   "execution_count": 23,
   "metadata": {},
   "outputs": [
    {
     "name": "stdout",
     "output_type": "stream",
     "text": [
      "4\n",
      "27\n",
      "3\n"
     ]
    },
    {
     "ename": "TypeError",
     "evalue": "power() missing 1 required positional argument: 'x'",
     "output_type": "error",
     "traceback": [
      "\u001b[1;31m---------------------------------------------------------------------------\u001b[0m",
      "\u001b[1;31mTypeError\u001b[0m                                 Traceback (most recent call last)",
      "\u001b[1;32m<ipython-input-23-062e47858620>\u001b[0m in \u001b[0;36m<module>\u001b[1;34m()\u001b[0m\n\u001b[0;32m      9\u001b[0m \u001b[0mprint\u001b[0m\u001b[1;33m(\u001b[0m\u001b[0mpower\u001b[0m\u001b[1;33m(\u001b[0m\u001b[0mx\u001b[0m\u001b[1;33m=\u001b[0m\u001b[1;36m3\u001b[0m\u001b[1;33m,\u001b[0m \u001b[0mnum\u001b[0m\u001b[1;33m=\u001b[0m\u001b[1;36m3\u001b[0m\u001b[1;33m)\u001b[0m\u001b[1;33m)\u001b[0m\u001b[1;33m\u001b[0m\u001b[0m\n\u001b[0;32m     10\u001b[0m \u001b[0mprint\u001b[0m\u001b[1;33m(\u001b[0m\u001b[0mpowerD\u001b[0m\u001b[1;33m(\u001b[0m\u001b[1;36m3\u001b[0m\u001b[1;33m)\u001b[0m\u001b[1;33m)\u001b[0m\u001b[1;33m\u001b[0m\u001b[0m\n\u001b[1;32m---> 11\u001b[1;33m \u001b[0mprint\u001b[0m\u001b[1;33m(\u001b[0m\u001b[0mpower\u001b[0m\u001b[1;33m(\u001b[0m\u001b[1;36m3\u001b[0m\u001b[1;33m)\u001b[0m\u001b[1;33m)\u001b[0m \u001b[1;31m# Throws an exception\u001b[0m\u001b[1;33m\u001b[0m\u001b[0m\n\u001b[0m",
      "\u001b[1;31mTypeError\u001b[0m: power() missing 1 required positional argument: 'x'"
     ]
    }
   ],
   "source": [
    "# Arguments\n",
    "def power(num, x): #Without default values to parameter\n",
    "    return num ** x\n",
    "\n",
    "def powerD(num, x=1): #With default values of 1 to parameter x\n",
    "    return num ** x\n",
    "\n",
    "print(power(2,2))\n",
    "print(power(x=3, num=3))\n",
    "print(powerD(3))\n",
    "print(power(3)) # Throws an exception"
   ]
  },
  {
   "cell_type": "code",
   "execution_count": 24,
   "metadata": {},
   "outputs": [
    {
     "data": {
      "text/plain": [
       "18"
      ]
     },
     "execution_count": 24,
     "metadata": {},
     "output_type": "execute_result"
    }
   ],
   "source": [
    "# Multiple arguments\n",
    "def multi_add(*args):\n",
    "    results = 0\n",
    "    for x in args:\n",
    "        results = results + x\n",
    "    return results\n",
    "\n",
    "multi_add(10,2,3,1,2)"
   ]
  },
  {
   "cell_type": "code",
   "execution_count": 2,
   "metadata": {},
   "outputs": [
    {
     "name": "stdout",
     "output_type": "stream",
     "text": [
      "In main method\n",
      "method 1: arg Custom\n"
     ]
    }
   ],
   "source": [
    "class myClass():\n",
    "    def method1(self, arg = \"Default\"):\n",
    "        print(\"method 1: arg \"+arg)\n",
    "def main():\n",
    "    print(\"In main method\")\n",
    "    obj = myClass()\n",
    "    obj.method1(\"Custom\")\n",
    "if __name__ == \"__main__\":\n",
    "    main()"
   ]
  },
  {
   "cell_type": "code",
   "execution_count": null,
   "metadata": {
    "scrolled": true
   },
   "outputs": [],
   "source": [
    "# Functions, Methods and OOPs\n",
    "# Example of Banking domain\n",
    "class Account:\n",
    "    global exit\n",
    "    global acct_bal\n",
    "    \n",
    "    def withdraw(self, amnt):\n",
    "        global acct_bal\n",
    "        amount = acct_bal - amnt\n",
    "        return amount\n",
    "    \n",
    "    def deposit(self, amnt):\n",
    "        global acct_bal\n",
    "        amount = acct_bal + amnt\n",
    "        return amount\n",
    "    \n",
    "    def checkBalance(self):\n",
    "        global acct_bal\n",
    "        return acct_bal\n",
    "\n",
    "    def operations(self, option):\n",
    "        global acct_bal\n",
    "        if(option == \"N\"):\n",
    "            print('Enter your name: ')\n",
    "            name = input()\n",
    "            print('Enter initial deposit amount: ')\n",
    "            acct_bal = float(input())\n",
    "            if(acct_bal < 0):\n",
    "                print(\"Invalid amount!!\")\n",
    "                acct_bal = 0.0\n",
    "            print(\"Now your acct is ready. Welcome to our banking services.\")\n",
    "            \n",
    "        elif(option == \"W\"):\n",
    "            print(\"Enter the amount to withdraw: \")\n",
    "            amnt = float(input())\n",
    "            if(amnt > acct_bal):\n",
    "                print(\"Insufficient funds!! Your balance is: \"+str(acct_bal))\n",
    "            else: \n",
    "                acct_bal = self.withdraw(amnt)\n",
    "                print(\"Rmaining balance: \"+str(acct_bal))\n",
    "                \n",
    "        elif(option == \"D\"): \n",
    "            print('Enter deposit amount: ')\n",
    "            amnt = float(input())\n",
    "            acct_bal = self.deposit(amnt)\n",
    "            print(\"Now the balance is: \"+str(acct_bal))\n",
    "            \n",
    "        elif(option == \"C\"): \n",
    "            self.checkBalance()\n",
    "            print(\"Your balance is: \"+str(acct_bal))\n",
    "            \n",
    "        elif(option == \"E\"):\n",
    "            exit = \"A\"\n",
    "            \n",
    "        else:\n",
    "            print(\"Invalid Input!! Please choose following options only\")\n",
    "            \n",
    "    def run(self):       \n",
    "        exit = \"E\"\n",
    "        while(exit == \"E\"):\n",
    "            print(\"Choose below options for your operations: N - New Account, W - Withdraw, D - Deposit, C - Check your balance, E - exit\")\n",
    "            option = input()\n",
    "            self.operations(option)\n",
    "        \n",
    "account_obj = Account()\n",
    "account_obj.run()"
   ]
  },
  {
   "cell_type": "code",
   "execution_count": 9,
   "metadata": {},
   "outputs": [
    {
     "name": "stdout",
     "output_type": "stream",
     "text": [
      "2018-12-03\n",
      "Date parts: 3 12 2018 0\n",
      "0\n"
     ]
    }
   ],
   "source": [
    "# Date and Time\n",
    "from datetime import date\n",
    "from datetime import time\n",
    "from datetime import datetime\n",
    "\n",
    "todayDate = date.today()\n",
    "print(todayDate)\n",
    "\n",
    "print(\"Date parts: \"+str(todayDate.day)+\" \"+str(todayDate.month)+\" \"+str(todayDate.year)+\" \"+str(todayDate.weekday()))\n",
    "print(todayDate.weekday())"
   ]
  },
  {
   "cell_type": "code",
   "execution_count": 12,
   "metadata": {},
   "outputs": [
    {
     "name": "stdout",
     "output_type": "stream",
     "text": [
      "2018-12-03 16:06:44.540797\n"
     ]
    }
   ],
   "source": [
    "print(datetime.now())"
   ]
  },
  {
   "cell_type": "code",
   "execution_count": 13,
   "metadata": {},
   "outputs": [
    {
     "name": "stdout",
     "output_type": "stream",
     "text": [
      "Year: 2018 \n"
     ]
    }
   ],
   "source": [
    "#Date and Time formatting\n",
    "now = datetime.now()\n",
    "print(now.strftime(\"Year: %Y \"))"
   ]
  },
  {
   "cell_type": "code",
   "execution_count": 16,
   "metadata": {},
   "outputs": [
    {
     "name": "stdout",
     "output_type": "stream",
     "text": [
      "Year: 2018 Dec 03 1 \n"
     ]
    }
   ],
   "source": [
    "print(now.strftime(\"Year: %Y %b %d %w \"))"
   ]
  },
  {
   "cell_type": "code",
   "execution_count": 20,
   "metadata": {},
   "outputs": [
    {
     "name": "stdout",
     "output_type": "stream",
     "text": [
      "2018-12-22 16:09:07.322797\n"
     ]
    }
   ],
   "source": [
    "#Time delta\n",
    "from datetime import timedelta\n",
    "#In 2 weeks, 5 days\n",
    "print(now + timedelta( weeks = 2, days=5))"
   ]
  },
  {
   "cell_type": "code",
   "execution_count": 28,
   "metadata": {},
   "outputs": [
    {
     "name": "stdout",
     "output_type": "stream",
     "text": [
      "   December 2018\n",
      "Su Mo Tu We Th Fr Sa\n",
      "                   1\n",
      " 2  3  4  5  6  7  8\n",
      " 9 10 11 12 13 14 15\n",
      "16 17 18 19 20 21 22\n",
      "23 24 25 26 27 28 29\n",
      "30 31\n",
      "\n"
     ]
    }
   ],
   "source": [
    "import calendar\n",
    "\n",
    "c = calendar.TextCalendar(calendar.SUNDAY)\n",
    "st = c.formatmonth(2018,12,2,0)\n",
    "print(st)"
   ]
  },
  {
   "cell_type": "code",
   "execution_count": 5,
   "metadata": {},
   "outputs": [],
   "source": [
    "# Working with files\n",
    "#f = open(\"text_file.txt\",\"w+\")\n",
    "f = open(\"text_file.txt\",\"a\")\n",
    "#write some lines\n",
    "f.write(\"This is my first program on file operations.\\n\")\n",
    "for i in range(10):\n",
    "    f.write(\"This is \"+str(i)+\" appened line of the document.\\n\")\n",
    "f.close()"
   ]
  },
  {
   "cell_type": "code",
   "execution_count": 6,
   "metadata": {},
   "outputs": [
    {
     "name": "stdout",
     "output_type": "stream",
     "text": [
      "This is my first program on file operations.\n",
      "This is 0 line of the document.\n",
      "This is 1 line of the document.\n",
      "This is 2 line of the document.\n",
      "This is 3 line of the document.\n",
      "This is 4 line of the document.\n",
      "This is 5 line of the document.\n",
      "This is 6 line of the document.\n",
      "This is 7 line of the document.\n",
      "This is 8 line of the document.\n",
      "This is 9 line of the document.\n",
      "This is my first program on file operations.\n",
      "This is 0 appened line of the document.\n",
      "This is 1 appened line of the document.\n",
      "This is 2 appened line of the document.\n",
      "This is 3 appened line of the document.\n",
      "This is 4 appened line of the document.\n",
      "This is 5 appened line of the document.\n",
      "This is 6 appened line of the document.\n",
      "This is 7 appened line of the document.\n",
      "This is 8 appened line of the document.\n",
      "This is 9 appened line of the document.\n",
      "\n"
     ]
    }
   ],
   "source": [
    "fr = open(\"text_file.txt\",\"r\")\n",
    "if fr.mode == 'r':\n",
    "    contents = fr.read()\n",
    "    print(contents)"
   ]
  },
  {
   "cell_type": "code",
   "execution_count": 4,
   "metadata": {},
   "outputs": [
    {
     "name": "stdout",
     "output_type": "stream",
     "text": [
      "posix\n",
      "<module 'posixpath' from '/Users/vjvelpula/Applications/anaconda3/lib/python3.9/posixpath.py'>\n"
     ]
    }
   ],
   "source": [
    "#Working with OS path utilites\n",
    "import os\n",
    "from os import path\n",
    "import datetime\n",
    "from datetime import date, time, datetime\n",
    "import time\n",
    "\n",
    "print(os.name)\n",
    "print(path)"
   ]
  },
  {
   "cell_type": "code",
   "execution_count": 5,
   "metadata": {},
   "outputs": [
    {
     "name": "stdout",
     "output_type": "stream",
     "text": [
      "False\n",
      "False\n",
      "False\n"
     ]
    }
   ],
   "source": [
    "print(str(path.exists(\"text_file.txt\")))\n",
    "print(str(path.isfile(\"text_file.txt\")))\n",
    "print(str(path.isdir(\"text_file.txt\")))"
   ]
  },
  {
   "cell_type": "code",
   "execution_count": 13,
   "metadata": {},
   "outputs": [
    {
     "name": "stdout",
     "output_type": "stream",
     "text": [
      "C:\\Users\\a978793\\Documents\\PythonWorkspace\\text_file.txt\n"
     ]
    }
   ],
   "source": [
    "print(str(path.realpath(\"text_file.txt\")))"
   ]
  },
  {
   "cell_type": "code",
   "execution_count": 14,
   "metadata": {},
   "outputs": [
    {
     "name": "stdout",
     "output_type": "stream",
     "text": [
      "('C:\\\\Users\\\\a978793\\\\Documents\\\\PythonWorkspace', 'text_file.txt')\n"
     ]
    }
   ],
   "source": [
    "print(str(path.split(path.realpath(\"text_file.txt\"))))"
   ]
  },
  {
   "cell_type": "code",
   "execution_count": 21,
   "metadata": {},
   "outputs": [
    {
     "name": "stdout",
     "output_type": "stream",
     "text": [
      "1543837842.2816749\n",
      "1543838071.739821\n",
      "2018-12-03 17:24:31.739821\n"
     ]
    }
   ],
   "source": [
    "print(str(path.getctime(\"text_file.txt\")))\n",
    "print(str(path.getmtime(\"text_file.txt\")))\n",
    "print(str(datetime.fromtimestamp(path.getmtime(\"text_file.txt\"))))"
   ]
  },
  {
   "cell_type": "code",
   "execution_count": 22,
   "metadata": {},
   "outputs": [
    {
     "name": "stdout",
     "output_type": "stream",
     "text": [
      "0:21:41.048335\n"
     ]
    }
   ],
   "source": [
    "print(str(datetime.now() - datetime.fromtimestamp(path.getmtime(\"text_file.txt\"))))"
   ]
  },
  {
   "cell_type": "code",
   "execution_count": null,
   "metadata": {},
   "outputs": [],
   "source": []
  }
 ],
 "metadata": {
  "interpreter": {
   "hash": "03ab832be714af6a2e2aacd1aa00ac0ef05fa8a66d05e94148a483646a87a75f"
  },
  "kernelspec": {
   "display_name": "Python 3.9.7 ('base')",
   "language": "python",
   "name": "python3"
  },
  "language_info": {
   "codemirror_mode": {
    "name": "ipython",
    "version": 3
   },
   "file_extension": ".py",
   "mimetype": "text/x-python",
   "name": "python",
   "nbconvert_exporter": "python",
   "pygments_lexer": "ipython3",
   "version": "3.9.7"
  }
 },
 "nbformat": 4,
 "nbformat_minor": 2
}
