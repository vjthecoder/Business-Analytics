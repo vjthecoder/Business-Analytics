{
 "cells": [
  {
   "cell_type": "markdown",
   "metadata": {},
   "source": [
    "## Code Reproducibility\n",
    "\n",
    "Codes can break with change is package/module version, so for reproducibility I have shared my package version numbers.\n",
    "\n",
    "### My package versions\n",
    "* numpy:  1.11.1 \n",
    "* pandas:  0.18.1\n",
    "* matplotlib:  1.5.3\n",
    "* IPython:  5.1.0\n",
    "* sklearn:  0.18.1\n",
    "* scipy:  0.18.1\n",
    "* pydot:  1.2.2\n",
    "* statsmodels:  0.6.1\n",
    "* patsy:  0.4.1\n",
    "* seaborn:  0.7.1\n",
    "* mlxtend:  0.5.0\n",
    "* imblearn:  0.2.1\n",
    "* nltk:  3.2.1\n",
    "* tweepy:  3.5.0\n",
    "* gensim:  0.13.4.1\n",
    "* keras:  2.0.2\n",
    "* tensorflow:  1.0.0\n",
    "* theano:  0.9.0"
   ]
  },
  {
   "cell_type": "code",
   "execution_count": 5,
   "metadata": {},
   "outputs": [
    {
     "name": "stdout",
     "output_type": "stream",
     "text": [
      "Requirement already satisfied: matplotlib in c:\\users\\vijayvelpula\\appdata\\local\\programs\\python\\python311\\lib\\site-packages (3.6.2)\n",
      "Collecting sklearn\n",
      "  Downloading sklearn-0.0.post1.tar.gz (3.6 kB)\n",
      "  Preparing metadata (setup.py): started\n",
      "  Preparing metadata (setup.py): finished with status 'error'\n",
      "Note: you may need to restart the kernel to use updated packages.\n"
     ]
    },
    {
     "name": "stderr",
     "output_type": "stream",
     "text": [
      "  error: subprocess-exited-with-error\n",
      "  \n",
      "  × python setup.py egg_info did not run successfully.\n",
      "  │ exit code: 1\n",
      "  ╰─> [18 lines of output]\n",
      "      The 'sklearn' PyPI package is deprecated, use 'scikit-learn'\n",
      "      rather than 'sklearn' for pip commands.\n",
      "      \n",
      "      Here is how to fix this error in the main use cases:\n",
      "      - use 'pip install scikit-learn' rather than 'pip install sklearn'\n",
      "      - replace 'sklearn' by 'scikit-learn' in your pip requirements files\n",
      "        (requirements.txt, setup.py, setup.cfg, Pipfile, etc ...)\n",
      "      - if the 'sklearn' package is used by one of your dependencies,\n",
      "        it would be great if you take some time to track which package uses\n",
      "        'sklearn' instead of 'scikit-learn' and report it to their issue tracker\n",
      "      - as a last resort, set the environment variable\n",
      "        SKLEARN_ALLOW_DEPRECATED_SKLEARN_PACKAGE_INSTALL=True to avoid this error\n",
      "      \n",
      "      More information is available at\n",
      "      https://github.com/scikit-learn/sklearn-pypi-package\n",
      "      \n",
      "      If the previous advice does not cover your use case, feel free to report it at\n",
      "      https://github.com/scikit-learn/sklearn-pypi-package/issues/new\n",
      "      [end of output]\n",
      "  \n",
      "  note: This error originates from a subprocess, and is likely not a problem with pip.\n",
      "error: metadata-generation-failed\n",
      "\n",
      "× Encountered error while generating package metadata.\n",
      "╰─> See above for output.\n",
      "\n",
      "note: This is an issue with the package mentioned above, not pip.\n",
      "hint: See above for details.\n"
     ]
    }
   ],
   "source": [
    "pip install matplotlib sklearn scipy pydot statsmodels patsy nltk"
   ]
  },
  {
   "cell_type": "code",
   "execution_count": 4,
   "metadata": {},
   "outputs": [
    {
     "name": "stdout",
     "output_type": "stream",
     "text": [
      "numpy:  1.24.1\n",
      "pandas:  1.5.2\n",
      "matplotlib:  3.6.2\n",
      "IPython:  8.7.0\n"
     ]
    },
    {
     "ename": "ModuleNotFoundError",
     "evalue": "No module named 'sklearn'",
     "output_type": "error",
     "traceback": [
      "\u001b[1;31m---------------------------------------------------------------------------\u001b[0m",
      "\u001b[1;31mModuleNotFoundError\u001b[0m                       Traceback (most recent call last)",
      "Cell \u001b[1;32mIn[4], line 6\u001b[0m\n\u001b[0;32m      4\u001b[0m \u001b[39mimport\u001b[39;00m \u001b[39mmatplotlib\u001b[39;00m; \u001b[39mprint\u001b[39m(\u001b[39m\"\u001b[39m\u001b[39mmatplotlib: \u001b[39m\u001b[39m\"\u001b[39m, matplotlib\u001b[39m.\u001b[39m__version__)\n\u001b[0;32m      5\u001b[0m \u001b[39mimport\u001b[39;00m \u001b[39mIPython\u001b[39;00m; \u001b[39mprint\u001b[39m(\u001b[39m\"\u001b[39m\u001b[39mIPython: \u001b[39m\u001b[39m\"\u001b[39m, IPython\u001b[39m.\u001b[39m__version__)\n\u001b[1;32m----> 6\u001b[0m \u001b[39mimport\u001b[39;00m \u001b[39msklearn\u001b[39;00m; \u001b[39mprint\u001b[39m(\u001b[39m\"\u001b[39m\u001b[39msklearn: \u001b[39m\u001b[39m\"\u001b[39m, sklearn\u001b[39m.\u001b[39m__version__)\n\u001b[0;32m      7\u001b[0m \u001b[39mimport\u001b[39;00m \u001b[39mscipy\u001b[39;00m; \u001b[39mprint\u001b[39m(\u001b[39m\"\u001b[39m\u001b[39mscipy: \u001b[39m\u001b[39m\"\u001b[39m, scipy\u001b[39m.\u001b[39m__version__)\n\u001b[0;32m      8\u001b[0m \u001b[39mimport\u001b[39;00m \u001b[39mpydot\u001b[39;00m; \u001b[39mprint\u001b[39m(\u001b[39m\"\u001b[39m\u001b[39mpydot: \u001b[39m\u001b[39m\"\u001b[39m, pydot\u001b[39m.\u001b[39m__version__)\n",
      "\u001b[1;31mModuleNotFoundError\u001b[0m: No module named 'sklearn'"
     ]
    }
   ],
   "source": [
    "# Run the code to get your package version numbers\n",
    "import numpy; print(\"numpy: \", numpy.__version__)\n",
    "import pandas; print(\"pandas: \", pandas.__version__)\n",
    "import matplotlib; print(\"matplotlib: \", matplotlib.__version__)\n",
    "import IPython; print(\"IPython: \", IPython.__version__)\n",
    "import sklearn; print(\"sklearn: \", sklearn.__version__)\n",
    "import scipy; print(\"scipy: \", scipy.__version__)\n",
    "import pydot; print(\"pydot: \", pydot.__version__)\n",
    "import statsmodels; print(\"statsmodels: \", statsmodels.__version__)\n",
    "import patsy; print(\"patsy: \", patsy.__version__)\n",
    "import seaborn; print(\"seaborn: \", seaborn.__version__)\n",
    "import mlxtend; print(\"mlxtend: \", mlxtend.__version__)\n",
    "import imblearn; print(\"imblearn: \", imblearn.__version__)\n",
    "import nltk; print(\"nltk: \", nltk.__version__)\n",
    "\n",
    "import tweepy; print(\"tweepy: \", tweepy.__version__)\n",
    "import gensim; print(\"gensim: \", gensim.__version__)"
   ]
  },
  {
   "cell_type": "code",
   "execution_count": 4,
   "metadata": {},
   "outputs": [
    {
     "name": "stdout",
     "output_type": "stream",
     "text": [
      " keras:  2.0.2\n",
      "tensorflow:  1.0.0\n",
      "theano:  0.9.0\n"
     ]
    }
   ],
   "source": [
    "import textract; print \"textract: \", textract.__version__\n",
    "import keras; print \"keras: \", keras.__version__\n",
    "import tensorflow; print \"tensorflow: \", tensorflow.__version__\n",
    "import theano; print \"theano: \", theano.__version__"
   ]
  }
 ],
 "metadata": {
  "anaconda-cloud": {},
  "kernelspec": {
   "display_name": "Python 3",
   "language": "python",
   "name": "python3"
  },
  "language_info": {
   "codemirror_mode": {
    "name": "ipython",
    "version": 3
   },
   "file_extension": ".py",
   "mimetype": "text/x-python",
   "name": "python",
   "nbconvert_exporter": "python",
   "pygments_lexer": "ipython3",
   "version": "3.11.1"
  },
  "vscode": {
   "interpreter": {
    "hash": "26d5ccfc912ad8da8a23182b6f6e1de6f773ee2caeab11d02a811feea9ea6518"
   }
  }
 },
 "nbformat": 4,
 "nbformat_minor": 1
}
