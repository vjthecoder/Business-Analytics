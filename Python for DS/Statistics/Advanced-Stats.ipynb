{
 "cells": [
  {
   "cell_type": "markdown",
   "metadata": {},
   "source": [
    "### Advanced Statistical Modeling Libraries\n",
    "    # SpaCy is an open-source library used for advanced NLP\n",
    "    # Bokeh is a Python library I would like to term as for interactive data visualization\n",
    "    # Plotly is a quintessential graph plotting library for Python\n",
    "    # Gensim automatically extracts semantic topics from documents with high efficiency\n",
    "    # NLTK (Natural Language Toolkit) mainly works with human language more than computer language to apply natural language processing (NLP)\n",
    "    # TensorFlow is an AI library that helps developers to create large-scale neural networks with many layers using data flow graphs.\n",
    "    # Keras is TensorFlow’s high-level API for building and training Deep Neural Network code"
   ]
  }
 ],
 "metadata": {
  "kernelspec": {
   "display_name": "Python 3",
   "language": "python",
   "name": "python3"
  },
  "language_info": {
   "codemirror_mode": {
    "name": "ipython",
    "version": 3
   },
   "file_extension": ".py",
   "mimetype": "text/x-python",
   "name": "python",
   "nbconvert_exporter": "python",
   "pygments_lexer": "ipython3",
   "version": "3.6.5"
  }
 },
 "nbformat": 4,
 "nbformat_minor": 2
}
