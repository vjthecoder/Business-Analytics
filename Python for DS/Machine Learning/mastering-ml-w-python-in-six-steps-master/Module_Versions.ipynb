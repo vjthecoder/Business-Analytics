{
 "cells": [
  {
   "cell_type": "markdown",
   "metadata": {},
   "source": [
    "## Code Reproducibility\n",
    "\n",
    "Codes can break with change is package/module version, so for reproducibility I have shared my package version numbers.\n",
    "\n",
    "### My package versions\n",
    "* numpy:  1.11.1 \n",
    "* pandas:  0.18.1\n",
    "* matplotlib:  1.5.3\n",
    "* IPython:  5.1.0\n",
    "* sklearn:  0.18.1\n",
    "* scipy:  0.18.1\n",
    "* pydot:  1.2.2\n",
    "* statsmodels:  0.6.1\n",
    "* patsy:  0.4.1\n",
    "* seaborn:  0.7.1\n",
    "* mlxtend:  0.5.0\n",
    "* imblearn:  0.2.1\n",
    "* nltk:  3.2.1\n",
    "* tweepy:  3.5.0\n",
    "* gensim:  0.13.4.1\n",
    "* keras:  2.0.2\n",
    "* tensorflow:  1.0.0\n",
    "* theano:  0.9.0"
   ]
  },
  {
   "cell_type": "code",
   "execution_count": 3,
   "metadata": {},
   "outputs": [
    {
     "name": "stdout",
     "output_type": "stream",
     "text": [
      "numpy:  1.14.3\n",
      "pandas:  0.23.0\n",
      "matplotlib:  2.2.2\n",
      "IPython:  6.4.0\n",
      "sklearn:  0.19.1\n",
      "scipy:  1.1.0\n"
     ]
    },
    {
     "ename": "ModuleNotFoundError",
     "evalue": "No module named 'pydot'",
     "output_type": "error",
     "traceback": [
      "\u001b[0;31m---------------------------------------------------------------------------\u001b[0m",
      "\u001b[0;31mModuleNotFoundError\u001b[0m                       Traceback (most recent call last)",
      "\u001b[0;32m<ipython-input-3-a3d90040d836>\u001b[0m in \u001b[0;36m<module>\u001b[0;34m()\u001b[0m\n\u001b[1;32m      6\u001b[0m \u001b[0;32mimport\u001b[0m \u001b[0msklearn\u001b[0m\u001b[0;34m;\u001b[0m \u001b[0mprint\u001b[0m\u001b[0;34m(\u001b[0m\u001b[0;34m\"sklearn: \"\u001b[0m\u001b[0;34m,\u001b[0m \u001b[0msklearn\u001b[0m\u001b[0;34m.\u001b[0m\u001b[0m__version__\u001b[0m\u001b[0;34m)\u001b[0m\u001b[0;34m\u001b[0m\u001b[0m\n\u001b[1;32m      7\u001b[0m \u001b[0;32mimport\u001b[0m \u001b[0mscipy\u001b[0m\u001b[0;34m;\u001b[0m \u001b[0mprint\u001b[0m\u001b[0;34m(\u001b[0m\u001b[0;34m\"scipy: \"\u001b[0m\u001b[0;34m,\u001b[0m \u001b[0mscipy\u001b[0m\u001b[0;34m.\u001b[0m\u001b[0m__version__\u001b[0m\u001b[0;34m)\u001b[0m\u001b[0;34m\u001b[0m\u001b[0m\n\u001b[0;32m----> 8\u001b[0;31m \u001b[0;32mimport\u001b[0m \u001b[0mpydot\u001b[0m\u001b[0;34m;\u001b[0m \u001b[0mprint\u001b[0m\u001b[0;34m(\u001b[0m\u001b[0;34m\"pydot: \"\u001b[0m\u001b[0;34m,\u001b[0m \u001b[0mpydot\u001b[0m\u001b[0;34m.\u001b[0m\u001b[0m__version__\u001b[0m\u001b[0;34m)\u001b[0m\u001b[0;34m\u001b[0m\u001b[0m\n\u001b[0m\u001b[1;32m      9\u001b[0m \u001b[0;32mimport\u001b[0m \u001b[0mstatsmodels\u001b[0m\u001b[0;34m;\u001b[0m \u001b[0mprint\u001b[0m\u001b[0;34m(\u001b[0m\u001b[0;34m\"statsmodels: \"\u001b[0m\u001b[0;34m,\u001b[0m \u001b[0mstatsmodels\u001b[0m\u001b[0;34m.\u001b[0m\u001b[0m__version__\u001b[0m\u001b[0;34m)\u001b[0m\u001b[0;34m\u001b[0m\u001b[0m\n\u001b[1;32m     10\u001b[0m \u001b[0;32mimport\u001b[0m \u001b[0mpatsy\u001b[0m\u001b[0;34m;\u001b[0m \u001b[0mprint\u001b[0m\u001b[0;34m(\u001b[0m\u001b[0;34m\"patsy: \"\u001b[0m\u001b[0;34m,\u001b[0m \u001b[0mpatsy\u001b[0m\u001b[0;34m.\u001b[0m\u001b[0m__version__\u001b[0m\u001b[0;34m)\u001b[0m\u001b[0;34m\u001b[0m\u001b[0m\n",
      "\u001b[0;31mModuleNotFoundError\u001b[0m: No module named 'pydot'"
     ]
    }
   ],
   "source": [
    "# Run the code to get your package version numbers\n",
    "import numpy; print(\"numpy: \", numpy.__version__)\n",
    "import pandas; print(\"pandas: \", pandas.__version__)\n",
    "import matplotlib; print(\"matplotlib: \", matplotlib.__version__)\n",
    "import IPython; print(\"IPython: \", IPython.__version__)\n",
    "import sklearn; print(\"sklearn: \", sklearn.__version__)\n",
    "import scipy; print(\"scipy: \", scipy.__version__)\n",
    "import pydot; print(\"pydot: \", pydot.__version__)\n",
    "import statsmodels; print(\"statsmodels: \", statsmodels.__version__)\n",
    "import patsy; print(\"patsy: \", patsy.__version__)\n",
    "import seaborn; print(\"seaborn: \", seaborn.__version__)\n",
    "import mlxtend; print(\"mlxtend: \", mlxtend.__version__)\n",
    "import imblearn; print(\"imblearn: \", imblearn.__version__)\n",
    "import nltk; print(\"nltk: \", nltk.__version__)\n",
    "\n",
    "import tweepy; print(\"tweepy: \", tweepy.__version__)\n",
    "import gensim; print(\"gensim: \", gensim.__version__)"
   ]
  },
  {
   "cell_type": "code",
   "execution_count": 4,
   "metadata": {},
   "outputs": [
    {
     "name": "stdout",
     "output_type": "stream",
     "text": [
      " keras:  2.0.2\n",
      "tensorflow:  1.0.0\n",
      "theano:  0.9.0\n"
     ]
    }
   ],
   "source": [
    "import textract; print \"textract: \", textract.__version__\n",
    "import keras; print \"keras: \", keras.__version__\n",
    "import tensorflow; print \"tensorflow: \", tensorflow.__version__\n",
    "import theano; print \"theano: \", theano.__version__"
   ]
  }
 ],
 "metadata": {
  "anaconda-cloud": {},
  "kernelspec": {
   "display_name": "Python 3",
   "language": "python",
   "name": "python3"
  },
  "language_info": {
   "codemirror_mode": {
    "name": "ipython",
    "version": 3
   },
   "file_extension": ".py",
   "mimetype": "text/x-python",
   "name": "python",
   "nbconvert_exporter": "python",
   "pygments_lexer": "ipython3",
   "version": "3.6.5"
  }
 },
 "nbformat": 4,
 "nbformat_minor": 1
}
