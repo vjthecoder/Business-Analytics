{
 "cells": [
  {
   "cell_type": "code",
   "execution_count": 1,
   "metadata": {},
   "outputs": [
    {
     "name": "stdout",
     "output_type": "stream",
     "text": [
      "9223372036854775807\n"
     ]
    }
   ],
   "source": [
    "import sys\n",
    "print(sys.maxsize)"
   ]
  },
  {
   "cell_type": "code",
   "execution_count": 18,
   "metadata": {},
   "outputs": [
    {
     "name": "stdout",
     "output_type": "stream",
     "text": [
      "False\n",
      "(10+20j)\n",
      "20.45\n",
      "10\n",
      "<class 'list'>\n",
      "<class 'tuple'>\n",
      "<class 'set'>\n",
      "<class 'dict'>\n",
      "{'a': 12, 'b': 34, 1: True, 0: False}\n"
     ]
    }
   ],
   "source": [
    "#Data types\n",
    "\n",
    "Integer = 10\n",
    "Float = 20.45\n",
    "Complex = 10+20j\n",
    "Boolean = bool(False)\n",
    "\n",
    "print(Boolean)\n",
    "print(Complex)\n",
    "print(Float)\n",
    "print(Integer)\n",
    "\n",
    "List = ['1',23,'ML',3.2]\n",
    "Tuple = ('1',23,'ML',3.2)\n",
    "Set = set(['1',23,'ML',3.2])\n",
    "Dictionary = {'a':12,'b':34,1:True,0:False}\n",
    "print(type(List))\n",
    "print(type(Tuple))\n",
    "print(type(Set))\n",
    "print(type(Dictionary))\n",
    "print(Dictionary)"
   ]
  },
  {
   "cell_type": "code",
   "execution_count": 20,
   "metadata": {},
   "outputs": [
    {
     "name": "stdout",
     "output_type": "stream",
     "text": [
      "12\n",
      "3.14\n",
      "hello I am multi statment single line, Believe me.\n",
      "True\n"
     ]
    }
   ],
   "source": [
    "print(12); print(3.14); print('hello I am multi statment single line, Believe me.'); print(True)"
   ]
  },
  {
   "cell_type": "code",
   "execution_count": 21,
   "metadata": {},
   "outputs": [
    {
     "name": "stdout",
     "output_type": "stream",
     "text": [
      "4.5\n",
      "4\n",
      "1\n"
     ]
    }
   ],
   "source": [
    "print(9/2)\n",
    "print(9//2)\n",
    "print(9%2)"
   ]
  },
  {
   "cell_type": "code",
   "execution_count": 28,
   "metadata": {},
   "outputs": [
    {
     "name": "stdout",
     "output_type": "stream",
     "text": [
      "0b1010\n",
      "0b100\n",
      "0b0\n",
      "0b1110\n",
      "-0b1011\n",
      "0b1110\n",
      "0b10\n",
      "0b101000\n",
      "0\n",
      "14\n",
      "-11\n",
      "14\n",
      "2\n",
      "40\n"
     ]
    }
   ],
   "source": [
    "#Bitwise operations\n",
    "x = 10\n",
    "y = 4\n",
    "print(bin(x))\n",
    "print(bin(y))\n",
    "\n",
    "print(bin(x&y)) #AND\n",
    "print(bin(x|y)) #OR\n",
    "print(bin(~x))  #NOT\n",
    "print(bin(x^y)) #XOR\n",
    "print(bin(x>>2))#Right Shift\n",
    "print(bin(x<<2))#Left Shift\n",
    "\n",
    "print(x&y) #AND\n",
    "print(x|y) #OR\n",
    "print(~x)  #NOT\n",
    "print(x^y) #XOR\n",
    "print(x>>2)#Right Shift\n",
    "print(x<<2)#Left Shift"
   ]
  },
  {
   "cell_type": "code",
   "execution_count": 30,
   "metadata": {},
   "outputs": [
    {
     "name": "stdout",
     "output_type": "stream",
     "text": [
      "Flag is not true\n"
     ]
    }
   ],
   "source": [
    "#Logical Not\n",
    "flag = False\n",
    "if(not flag): print('Flag is not true')"
   ]
  },
  {
   "cell_type": "code",
   "execution_count": 33,
   "metadata": {},
   "outputs": [
    {
     "name": "stdout",
     "output_type": "stream",
     "text": [
      "value exists in the List\n",
      "u not exists in the List\n"
     ]
    }
   ],
   "source": [
    "#Membership Operations\n",
    "v = 12\n",
    "u = -2\n",
    "List = [1,2,3,12,323,42,34]\n",
    "\n",
    "if(v in List): print('value exists in the List')\n",
    "else: print('value not exists in the List')\n",
    "    \n",
    "if(u not in List): print('u not exists in the List')\n",
    "else: print('u exists in the List')"
   ]
  },
  {
   "cell_type": "code",
   "execution_count": 36,
   "metadata": {},
   "outputs": [
    {
     "name": "stdout",
     "output_type": "stream",
     "text": [
      "True\n",
      "True\n",
      "False\n"
     ]
    }
   ],
   "source": [
    "#Identity Operators\n",
    "var1 = 5\n",
    "var2 = 5\n",
    "var3 = 'Hello'\n",
    "var4 = 'Hello'\n",
    "var5 = [1,2,3]\n",
    "var6 = [1,2,3]\n",
    "print(var1 is var2)\n",
    "print(var3 is var4)\n",
    "print(var5 is var6)"
   ]
  },
  {
   "cell_type": "code",
   "execution_count": 39,
   "metadata": {},
   "outputs": [
    {
     "name": "stdout",
     "output_type": "stream",
     "text": [
      "First loop letter:  a\n",
      "First loop letter:  b\n",
      "First loop letter:  c\n",
      "value of i: 1\n",
      "value of i: 2\n",
      "value of i: 3\n",
      "value of i: 4\n"
     ]
    }
   ],
   "source": [
    "#Control Structure - Selection(if, if-else) and Iteration(for, foreach, while)\n",
    "letters = ['a','b','c']\n",
    "for index in range(len(letters)):\n",
    "    print('First loop letter: ',letters[index])\n",
    "\n",
    "i = 1\n",
    "while(i < 5):\n",
    "    print('value of i:',i)\n",
    "    i += 1"
   ]
  },
  {
   "cell_type": "code",
   "execution_count": 49,
   "metadata": {},
   "outputs": [
    {
     "name": "stdout",
     "output_type": "stream",
     "text": [
      "[1, 2, 3, 4, 2, 3, 4, 5, 7]\n",
      "[1, 2, 2, 3, 3, 4, 4, 5, 7]\n",
      "[7, 5, 4, 4, 3, 3, 2, 2, 1]\n",
      "[7, 5, 12, 4, 4, 3, 3, 2, 2, 1]\n",
      "[7, 5, 12, 4, 4, 3, 2, 2, 1]\n"
     ]
    }
   ],
   "source": [
    "#List operations\n",
    "List = [1,2,3,4,4,2,3,4,5,7]\n",
    "List.remove(4)\n",
    "print(List)\n",
    "\n",
    "List.sort()\n",
    "print(List)\n",
    "List.sort(reverse=True)\n",
    "print(List)\n",
    "\n",
    "List.insert(2,12)\n",
    "print(List)\n",
    "del List[6]\n",
    "print(List)"
   ]
  },
  {
   "cell_type": "code",
   "execution_count": 59,
   "metadata": {},
   "outputs": [
    {
     "name": "stdout",
     "output_type": "stream",
     "text": [
      "-1\n",
      "False\n",
      "True\n",
      "False\n"
     ]
    }
   ],
   "source": [
    "#comparision\n",
    "import operator\n",
    "\n",
    "L1 = [1,2,3,4]\n",
    "L2 = [3,4,5]\n",
    "\n",
    "def cmp(a, b):\n",
    "    return (a > b) - (a < b)\n",
    "\n",
    "result = cmp(L1,L2)\n",
    "\n",
    "print(result)\n",
    "print(operator.eq(L1,L2))\n",
    "print(operator.lt(L1,L2))\n",
    "print(operator.gt(L1,L2))"
   ]
  },
  {
   "cell_type": "code",
   "execution_count": 63,
   "metadata": {},
   "outputs": [
    {
     "name": "stdout",
     "output_type": "stream",
     "text": [
      "2\n",
      "(1, 2, 1, 2, 3, 1, 2, 3, 12, 3, 12, 3, 34, 56, 565, 5, 101, 102, 103)\n",
      "565\n"
     ]
    }
   ],
   "source": [
    "#Tuple\n",
    "t = (1,2,1,2,3,1,2,3,12,3,12,3,34,56,565,5)\n",
    "print(t[3])\n",
    "t += (101,102,103)\n",
    "print(t)\n",
    "print(max(t))"
   ]
  },
  {
   "cell_type": "code",
   "execution_count": 2,
   "metadata": {},
   "outputs": [
    {
     "name": "stdout",
     "output_type": "stream",
     "text": [
      "{'Java', 'Scala', 'Python', 'R', 'Julia'}\n"
     ]
    }
   ],
   "source": [
    "#Sets\n",
    "s = set(['Python','R','Julia','Scala','Java','Scala','Python'])\n",
    "print(s)"
   ]
  },
  {
   "cell_type": "code",
   "execution_count": 5,
   "metadata": {},
   "outputs": [
    {
     "name": "stdout",
     "output_type": "stream",
     "text": [
      "{'Julia'}\n",
      "{'Clojure', 'C', 'SAS'}\n",
      "Python\n",
      "2\n",
      "Vijay\n"
     ]
    }
   ],
   "source": [
    "s2 = set(['Python','R','SAS','Clojure','C'])\n",
    "s3 = (['Vijay'])\n",
    "print(s.difference(s2))\n",
    "print(s2.difference(s))\n",
    "print(s.pop())\n",
    "print(len(s))\n",
    "print(s3.pop())"
   ]
  }
 ],
 "metadata": {
  "interpreter": {
   "hash": "03ab832be714af6a2e2aacd1aa00ac0ef05fa8a66d05e94148a483646a87a75f"
  },
  "kernelspec": {
   "display_name": "Python 3.9.7 ('base')",
   "language": "python",
   "name": "python3"
  },
  "language_info": {
   "codemirror_mode": {
    "name": "ipython",
    "version": 3
   },
   "file_extension": ".py",
   "mimetype": "text/x-python",
   "name": "python",
   "nbconvert_exporter": "python",
   "pygments_lexer": "ipython3",
   "version": "3.9.7"
  }
 },
 "nbformat": 4,
 "nbformat_minor": 2
}
